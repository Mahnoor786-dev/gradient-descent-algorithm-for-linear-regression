{
  "nbformat": 4,
  "nbformat_minor": 0,
  "metadata": {
    "colab": {
      "provenance": []
    },
    "kernelspec": {
      "name": "python3",
      "display_name": "Python 3"
    },
    "language_info": {
      "name": "python"
    }
  },
  "cells": [
    {
      "cell_type": "code",
      "source": [
        "import numpy as np\n",
        "import matplotlib.pyplot as plt"
      ],
      "metadata": {
        "id": "saVwjfdRdYAv"
      },
      "execution_count": null,
      "outputs": []
    },
    {
      "cell_type": "code",
      "source": [
        "def gradient_descent(X, Y, alpha, iterations):\n",
        "  #initilialize theta(weights) matrix having shape equals no of features\n",
        "  theta = np.zeros(X.shape[1])\n",
        "  #number of samples in features X\n",
        "  m = len(X)\n",
        "  # modify X, add a column with value 1 which denotes 0th feature of x i.e x⁽⁰⁾\n",
        "  ones=np.ones(m)\n",
        "  X=np.c_[ones,X]\n",
        "  #iterate to converge value of theta\n",
        "  for i in range(iterations):\n",
        "    #predict the known label y\n",
        "    y_predict = np.dot(X,theta.T)\n",
        "    error = y_predict - Y\n",
        "    #calculate the partial derivative of cost w.r.t theta(j)\n",
        "\n",
        "    #-----------------SOME PROBLEM IN BELOW LINE, TO BE RESOLVED...  SUMMATION NOT DONE !!!!! -----------------------\n",
        "\n",
        "    dw = (1/m)*np.dot(X.T, error)\n",
        "    #update the theta (parameters)\n",
        "    theta =  theta - alpha*dw"
      ],
      "metadata": {
        "id": "KFyVoM9jUxjd"
      },
      "execution_count": null,
      "outputs": []
    },
    {
      "cell_type": "code",
      "source": [
        "def predict(theta,X):\n",
        "  # modify X, add a column with value 1 which denotes 0th feature of x i.e x⁽⁰⁾\n",
        "  ones=np.ones(m)\n",
        "  X=np.c_[ones,X]\n",
        "  return np.dot(X, theta.T)\n",
        "      "
      ],
      "metadata": {
        "id": "R0dCwMlYdDNc"
      },
      "execution_count": null,
      "outputs": []
    },
    {
      "cell_type": "code",
      "source": [
        "def mean_squared_error(y_true, y_pred):\n",
        "  return np.mean((np.square(y_true - y_pred)))"
      ],
      "metadata": {
        "id": "Beo0RrkBKnAE"
      },
      "execution_count": null,
      "outputs": []
    },
    {
      "cell_type": "code",
      "source": [
        "alpha = 0.01\n",
        "iterations=1000\n",
        "gradient_descent(X,Y,alpha,iterations)\n",
        "\n",
        "predicted_outputs = predict(theta, X)\n",
        "MSE = mean_squared_error(Y, predicted_outputs)\n",
        "print(MSE)\n",
        "\n",
        "plt.scatter(X,Y)\n",
        "plt.scatter(new_hours,predict)\n",
        "plt.plot(X,existing)\n",
        "\n",
        "plt.show()"
      ],
      "metadata": {
        "id": "zmmPwdq9dMlh"
      },
      "execution_count": null,
      "outputs": []
    }
  ]
}