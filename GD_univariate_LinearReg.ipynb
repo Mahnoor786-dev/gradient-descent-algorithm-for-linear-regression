{
  "nbformat": 4,
  "nbformat_minor": 0,
  "metadata": {
    "colab": {
      "provenance": []
    },
    "kernelspec": {
      "name": "python3",
      "display_name": "Python 3"
    },
    "language_info": {
      "name": "python"
    }
  },
  "cells": [
    {
      "cell_type": "code",
      "execution_count": null,
      "metadata": {
        "id": "pnowJQsld7NS"
      },
      "outputs": [],
      "source": [
        "import numpy as np\n",
        "import matplotlib.pyplot as plt"
      ]
    },
    {
      "cell_type": "code",
      "source": [
        "def gradient_descent(X, y, alpha, iterations):\n",
        "  #set an array for theta0, theta1\n",
        "  theta = np.array([0,0])\n",
        "  #get number of samples in features X\n",
        "  m = length(X)\n",
        "  #iterate to coverge value of theta\n",
        "  for i in range(iterations):\n",
        "    #predict the known label y\n",
        "    y_predict = theta[1]*X + theta[0]\n",
        "    #calculate the gradient of cost w.r.t theta0, theta1\n",
        "    grad_theta0 = (2/m)*np.sum(y_predict - y)\n",
        "    grad_theta1 = (2/m)*np.sum(X*(y_predict - y))\n",
        "    #update the theta (parameters)\n",
        "    theta[1]=  theta[1]- alpha*grad_theta1\n",
        "    theta[0]=  theta[0]- alpha*grad_theta0\n",
        "       "
      ],
      "metadata": {
        "id": "GGuNmMTWeQ8V"
      },
      "execution_count": null,
      "outputs": []
    },
    {
      "cell_type": "code",
      "source": [
        "def predict(theta,X):\n",
        "  return theta[1]*X + theta[0]"
      ],
      "metadata": {
        "id": "ARVcIGHueQ-w"
      },
      "execution_count": null,
      "outputs": []
    },
    {
      "cell_type": "code",
      "source": [
        "def mean_squared_error(y_true, y_pred):\n",
        "    return np.mean((np.square(y_true - y_pred)))\n"
      ],
      "metadata": {
        "id": "FNW6EpRReRCU"
      },
      "execution_count": null,
      "outputs": []
    },
    {
      "cell_type": "code",
      "source": [
        "alpha = 0.01\n",
        "iterations=1000\n",
        "gradient_descent(X,y,alpha,iterations)\n",
        "\n",
        "\n",
        "predicted_outputs = predict(theta, X)\n",
        "MSE = mean_squared_error(y, predicted_outputs)\n",
        "print(MSE)\n",
        "\n",
        "plt.scatter(X,y)\n",
        "plt.scatter(new_hours,predict)\n",
        "plt.plot(X,existing)\n",
        "\n",
        "plt.show()"
      ],
      "metadata": {
        "id": "ViTxVMsGeb5N"
      },
      "execution_count": null,
      "outputs": []
    }
  ]
}